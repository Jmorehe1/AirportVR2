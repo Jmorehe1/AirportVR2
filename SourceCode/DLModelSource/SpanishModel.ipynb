{
  "cells": [
    {
      "cell_type": "code",
      "execution_count": null,
      "metadata": {
        "colab": {
          "base_uri": "https://localhost:8080/"
        },
        "id": "yGdUOQiG7b1b",
        "outputId": "75c7404d-9b91-4348-d0c2-b60173304f45"
      },
      "outputs": [
        {
          "output_type": "stream",
          "name": "stdout",
          "text": [
            "Colab only includes TensorFlow 2.x; %tensorflow_version has no effect.\n",
            "2.9.2\n"
          ]
        }
      ],
      "source": [
        "#imports\n",
        "\n",
        "import os \n",
        "import codecs\n",
        "import pandas as pd\n",
        "import numpy as np\n",
        "from sklearn.model_selection import train_test_split\n",
        "import io\n",
        "import random\n",
        "import pickle\n",
        "\n",
        "%tensorflow_version 2.x\n",
        "import tensorflow\n",
        "print(tensorflow.__version__)\n",
        "\n",
        "import keras\n",
        "import copy\n",
        "from keras.layers import Dense, Dropout, Activation, Input\n",
        "from keras.layers import LSTM,Concatenate , GRU\n",
        "from keras.models import Model\n",
        "from tensorflow.keras.layers import Embedding\n",
        "from tensorflow.keras.optimizers import Adam\n",
        "from keras.layers import ELU, PReLU, LeakyReLU\n",
        "from keras.regularizers import l2\n",
        "from keras.preprocessing.text import Tokenizer\n",
        "from keras_preprocessing.sequence import pad_sequences\n",
        "from keras.utils.np_utils import to_categorical\n",
        "\n",
        "import pickle"
      ]
    },
    {
      "cell_type": "code",
      "source": [
        "#CONFIGURATION\n",
        "train_model_for = 'semantics'\n",
        "#train_model_for = 'pragmatics'\n",
        "#train_model_for = 'morphology'\n",
        "#train_model_for = 'syntax'\n",
        "\n",
        "max_words = 10000\n",
        "max_answer_len = 25\n",
        "np.random.seed(6174)\n",
        "embedding_vector_length = 100\n",
        "learning_rate = .001\n",
        "training_epochs = 10\n",
        "\n",
        "from google.colab import files\n",
        "uploaded = files.upload()"
      ],
      "metadata": {
        "id": "-5elRoW7QHR2",
        "colab": {
          "base_uri": "https://localhost:8080/",
          "height": 74
        },
        "outputId": "a6ef4591-9c08-4db8-fa4b-387c2796c608"
      },
      "execution_count": null,
      "outputs": [
        {
          "output_type": "display_data",
          "data": {
            "text/plain": [
              "<IPython.core.display.HTML object>"
            ],
            "text/html": [
              "\n",
              "     <input type=\"file\" id=\"files-515eed30-3711-46b2-9d28-40d6f0da933f\" name=\"files[]\" multiple disabled\n",
              "        style=\"border:none\" />\n",
              "     <output id=\"result-515eed30-3711-46b2-9d28-40d6f0da933f\">\n",
              "      Upload widget is only available when the cell has been executed in the\n",
              "      current browser session. Please rerun this cell to enable.\n",
              "      </output>\n",
              "      <script>// Copyright 2017 Google LLC\n",
              "//\n",
              "// Licensed under the Apache License, Version 2.0 (the \"License\");\n",
              "// you may not use this file except in compliance with the License.\n",
              "// You may obtain a copy of the License at\n",
              "//\n",
              "//      http://www.apache.org/licenses/LICENSE-2.0\n",
              "//\n",
              "// Unless required by applicable law or agreed to in writing, software\n",
              "// distributed under the License is distributed on an \"AS IS\" BASIS,\n",
              "// WITHOUT WARRANTIES OR CONDITIONS OF ANY KIND, either express or implied.\n",
              "// See the License for the specific language governing permissions and\n",
              "// limitations under the License.\n",
              "\n",
              "/**\n",
              " * @fileoverview Helpers for google.colab Python module.\n",
              " */\n",
              "(function(scope) {\n",
              "function span(text, styleAttributes = {}) {\n",
              "  const element = document.createElement('span');\n",
              "  element.textContent = text;\n",
              "  for (const key of Object.keys(styleAttributes)) {\n",
              "    element.style[key] = styleAttributes[key];\n",
              "  }\n",
              "  return element;\n",
              "}\n",
              "\n",
              "// Max number of bytes which will be uploaded at a time.\n",
              "const MAX_PAYLOAD_SIZE = 100 * 1024;\n",
              "\n",
              "function _uploadFiles(inputId, outputId) {\n",
              "  const steps = uploadFilesStep(inputId, outputId);\n",
              "  const outputElement = document.getElementById(outputId);\n",
              "  // Cache steps on the outputElement to make it available for the next call\n",
              "  // to uploadFilesContinue from Python.\n",
              "  outputElement.steps = steps;\n",
              "\n",
              "  return _uploadFilesContinue(outputId);\n",
              "}\n",
              "\n",
              "// This is roughly an async generator (not supported in the browser yet),\n",
              "// where there are multiple asynchronous steps and the Python side is going\n",
              "// to poll for completion of each step.\n",
              "// This uses a Promise to block the python side on completion of each step,\n",
              "// then passes the result of the previous step as the input to the next step.\n",
              "function _uploadFilesContinue(outputId) {\n",
              "  const outputElement = document.getElementById(outputId);\n",
              "  const steps = outputElement.steps;\n",
              "\n",
              "  const next = steps.next(outputElement.lastPromiseValue);\n",
              "  return Promise.resolve(next.value.promise).then((value) => {\n",
              "    // Cache the last promise value to make it available to the next\n",
              "    // step of the generator.\n",
              "    outputElement.lastPromiseValue = value;\n",
              "    return next.value.response;\n",
              "  });\n",
              "}\n",
              "\n",
              "/**\n",
              " * Generator function which is called between each async step of the upload\n",
              " * process.\n",
              " * @param {string} inputId Element ID of the input file picker element.\n",
              " * @param {string} outputId Element ID of the output display.\n",
              " * @return {!Iterable<!Object>} Iterable of next steps.\n",
              " */\n",
              "function* uploadFilesStep(inputId, outputId) {\n",
              "  const inputElement = document.getElementById(inputId);\n",
              "  inputElement.disabled = false;\n",
              "\n",
              "  const outputElement = document.getElementById(outputId);\n",
              "  outputElement.innerHTML = '';\n",
              "\n",
              "  const pickedPromise = new Promise((resolve) => {\n",
              "    inputElement.addEventListener('change', (e) => {\n",
              "      resolve(e.target.files);\n",
              "    });\n",
              "  });\n",
              "\n",
              "  const cancel = document.createElement('button');\n",
              "  inputElement.parentElement.appendChild(cancel);\n",
              "  cancel.textContent = 'Cancel upload';\n",
              "  const cancelPromise = new Promise((resolve) => {\n",
              "    cancel.onclick = () => {\n",
              "      resolve(null);\n",
              "    };\n",
              "  });\n",
              "\n",
              "  // Wait for the user to pick the files.\n",
              "  const files = yield {\n",
              "    promise: Promise.race([pickedPromise, cancelPromise]),\n",
              "    response: {\n",
              "      action: 'starting',\n",
              "    }\n",
              "  };\n",
              "\n",
              "  cancel.remove();\n",
              "\n",
              "  // Disable the input element since further picks are not allowed.\n",
              "  inputElement.disabled = true;\n",
              "\n",
              "  if (!files) {\n",
              "    return {\n",
              "      response: {\n",
              "        action: 'complete',\n",
              "      }\n",
              "    };\n",
              "  }\n",
              "\n",
              "  for (const file of files) {\n",
              "    const li = document.createElement('li');\n",
              "    li.append(span(file.name, {fontWeight: 'bold'}));\n",
              "    li.append(span(\n",
              "        `(${file.type || 'n/a'}) - ${file.size} bytes, ` +\n",
              "        `last modified: ${\n",
              "            file.lastModifiedDate ? file.lastModifiedDate.toLocaleDateString() :\n",
              "                                    'n/a'} - `));\n",
              "    const percent = span('0% done');\n",
              "    li.appendChild(percent);\n",
              "\n",
              "    outputElement.appendChild(li);\n",
              "\n",
              "    const fileDataPromise = new Promise((resolve) => {\n",
              "      const reader = new FileReader();\n",
              "      reader.onload = (e) => {\n",
              "        resolve(e.target.result);\n",
              "      };\n",
              "      reader.readAsArrayBuffer(file);\n",
              "    });\n",
              "    // Wait for the data to be ready.\n",
              "    let fileData = yield {\n",
              "      promise: fileDataPromise,\n",
              "      response: {\n",
              "        action: 'continue',\n",
              "      }\n",
              "    };\n",
              "\n",
              "    // Use a chunked sending to avoid message size limits. See b/62115660.\n",
              "    let position = 0;\n",
              "    do {\n",
              "      const length = Math.min(fileData.byteLength - position, MAX_PAYLOAD_SIZE);\n",
              "      const chunk = new Uint8Array(fileData, position, length);\n",
              "      position += length;\n",
              "\n",
              "      const base64 = btoa(String.fromCharCode.apply(null, chunk));\n",
              "      yield {\n",
              "        response: {\n",
              "          action: 'append',\n",
              "          file: file.name,\n",
              "          data: base64,\n",
              "        },\n",
              "      };\n",
              "\n",
              "      let percentDone = fileData.byteLength === 0 ?\n",
              "          100 :\n",
              "          Math.round((position / fileData.byteLength) * 100);\n",
              "      percent.textContent = `${percentDone}% done`;\n",
              "\n",
              "    } while (position < fileData.byteLength);\n",
              "  }\n",
              "\n",
              "  // All done.\n",
              "  yield {\n",
              "    response: {\n",
              "      action: 'complete',\n",
              "    }\n",
              "  };\n",
              "}\n",
              "\n",
              "scope.google = scope.google || {};\n",
              "scope.google.colab = scope.google.colab || {};\n",
              "scope.google.colab._files = {\n",
              "  _uploadFiles,\n",
              "  _uploadFilesContinue,\n",
              "};\n",
              "})(self);\n",
              "</script> "
            ]
          },
          "metadata": {}
        },
        {
          "output_type": "stream",
          "name": "stdout",
          "text": [
            "Saving finalnative.csv to finalnative (1).csv\n"
          ]
        }
      ]
    },
    {
      "cell_type": "code",
      "execution_count": null,
      "metadata": {
        "colab": {
          "base_uri": "https://localhost:8080/"
        },
        "id": "bqa4510j81NI",
        "outputId": "2983d072-553d-4adb-f800-eadbd51e22f1"
      },
      "outputs": [
        {
          "output_type": "stream",
          "name": "stdout",
          "text": [
            "Pairs 11925\n"
          ]
        }
      ],
      "source": [
        "df = pd.read_csv(io.BytesIO(uploaded['finalnative.csv'])).astype(\"str\")\n",
        "\n",
        "df.columns = [\"question\",\"answer\", \"morphology\",\"syntax\",\"semantics\",\"pragmatics\"]\n",
        "\n",
        "from sklearn.utils import shuffle\n",
        "df = shuffle(df)\n",
        "df.reset_index(inplace=True, drop=True)\n",
        "\n",
        "#convert columns\n",
        "df['morphology'] = df['morphology'].astype(float)\n",
        "df['syntax'] = df['syntax'].astype(float)\n",
        "df['semantics'] = df['semantics'].astype(float)\n",
        "df['pragmatics'] = df['pragmatics'].astype(float)\n",
        "\n",
        "\n",
        "answers = df[\"answer\"]\n",
        "questions = df[\"question\"]\n",
        "\n",
        "#train model for specific score based on config variable\n",
        "problems = df[train_model_for]\n",
        "\n",
        "\n",
        "morph_problems = df[\"morphology\"]\n",
        "syntax_problems = df[\"syntax\"]\n",
        "sem_problems = df[\"semantics\"]\n",
        "prag_problems = df[\"pragmatics\"]\n",
        "\n",
        "#print number of question answer pairs\n",
        "print(\"Pairs \" + str(len(df['answer'])))"
      ]
    },
    {
      "cell_type": "code",
      "execution_count": null,
      "metadata": {
        "colab": {
          "base_uri": "https://localhost:8080/"
        },
        "id": "83i2IOzc9rJu",
        "outputId": "3e17c988-b89f-4674-9e7d-87374dce8b6f"
      },
      "outputs": [
        {
          "output_type": "stream",
          "name": "stderr",
          "text": [
            "/usr/local/lib/python3.7/dist-packages/keras/preprocessing/text.py:234: UserWarning: The `nb_words` argument in `Tokenizer` has been renamed `num_words`.\n",
            "  warnings.warn('The `nb_words` argument in `Tokenizer` '\n"
          ]
        },
        {
          "output_type": "stream",
          "name": "stdout",
          "text": [
            "[392, 14, 9, 151, 3, 102, 107]\n",
            "7\n",
            "23\n",
            "Shape of answer tensor: (11925, 23)\n",
            "Shape of question tensor: (11925, 23)\n",
            "0.0\n"
          ]
        }
      ],
      "source": [
        "#Answer tokenizer\n",
        "tokenizer_a = Tokenizer(nb_words=max_words)\n",
        "tokenizer_a.fit_on_texts(answers)\n",
        "answer_seqs = tokenizer_a.texts_to_sequences(answers)\n",
        "\n",
        "#question tokenizer\n",
        "tokenizer_b = Tokenizer(nb_words=max_words)\n",
        "tokenizer_b.fit_on_texts(answers)\n",
        "question_seqs = tokenizer_b.texts_to_sequences(questions)\n",
        "\n",
        "#find the longest answer\n",
        "max_found_answer_len = 0\n",
        "for s in answer_seqs:\n",
        "    if len(s) > max_found_answer_len:\n",
        "        max_found_answer_len = len(s)\n",
        "\n",
        "#find longest question\n",
        "max_found_question_len = 0\n",
        "for s in question_seqs:\n",
        "    if len(s) > max_found_question_len:\n",
        "        max_found_question_len = len(s)\n",
        "\n",
        "max_len = max(max_found_answer_len,max_found_question_len)\n",
        "#pad our sequences according to that length\n",
        "print(question_seqs[0])\n",
        "print(len(question_seqs[0]))\n",
        "answer_data = pad_sequences(answer_seqs,maxlen=max_len,padding=\"post\")\n",
        "question_data = pad_sequences(question_seqs,maxlen = max_len,padding=\"post\")\n",
        "\n",
        "print(len(question_data[0]))\n",
        "\n",
        "print('Shape of answer tensor:', answer_data.shape)\n",
        "print('Shape of question tensor:', question_data.shape)\n",
        "\n",
        "#creating labels\n",
        "print(problems[0])\n",
        "problems = to_categorical(problems)\n"
      ]
    },
    {
      "cell_type": "code",
      "execution_count": null,
      "metadata": {
        "colab": {
          "base_uri": "https://localhost:8080/"
        },
        "id": "_IhGvc4kks6g",
        "outputId": "d49238e5-a433-4c6b-fb70-4d8fd5ec34e5"
      },
      "outputs": [
        {
          "output_type": "stream",
          "name": "stdout",
          "text": [
            "[479 141   0   0   0   0   0   0   0   0   0   0   0   0   0   0   0   0\n",
            "   0   0   0   0   0]\n"
          ]
        }
      ],
      "source": [
        "from sklearn.utils import shuffle\n",
        "train_size = int(0.85 * len(answer_data))\n",
        "\n",
        "answer_data, question_data, problems = shuffle(answer_data,question_data,problems)\n",
        "\n",
        "X_train = answer_data[:train_size]\n",
        "X_test = answer_data[train_size:]\n",
        "\n",
        "Q_train = question_data[:train_size]\n",
        "Q_test = question_data[train_size:]\n",
        "\n",
        "y_train_list = problems[0:train_size]\n",
        "y_test_list = problems[train_size:]\n",
        "\n",
        "#print a sample answer\n",
        "print(answer_data[0])"
      ]
    },
    {
      "cell_type": "code",
      "execution_count": null,
      "metadata": {
        "colab": {
          "base_uri": "https://localhost:8080/"
        },
        "id": "rEeLVS661Vj9",
        "outputId": "87cb4aef-9355-409d-c9f8-51f5c218ecf2"
      },
      "outputs": [
        {
          "output_type": "stream",
          "name": "stdout",
          "text": [
            "Model: \"model_1\"\n",
            "__________________________________________________________________________________________________\n",
            " Layer (type)                   Output Shape         Param #     Connected to                     \n",
            "==================================================================================================\n",
            " answer (InputLayer)            [(None, 23)]         0           []                               \n",
            "                                                                                                  \n",
            " question (InputLayer)          [(None, 23)]         0           []                               \n",
            "                                                                                                  \n",
            " embedding_2 (Embedding)        (None, 23, 100)      1000000     ['answer[0][0]']                 \n",
            "                                                                                                  \n",
            " embedding_3 (Embedding)        (None, 23, 100)      1000000     ['question[0][0]']               \n",
            "                                                                                                  \n",
            " lstm_4 (LSTM)                  (None, 23, 200)      240800      ['embedding_2[0][0]']            \n",
            "                                                                                                  \n",
            " lstm_6 (LSTM)                  (None, 23, 200)      240800      ['embedding_3[0][0]']            \n",
            "                                                                                                  \n",
            " lstm_5 (LSTM)                  (None, 300)          601200      ['lstm_4[0][0]']                 \n",
            "                                                                                                  \n",
            " lstm_7 (LSTM)                  (None, 300)          601200      ['lstm_6[0][0]']                 \n",
            "                                                                                                  \n",
            " concatenate_1 (Concatenate)    (None, 600)          0           ['lstm_5[0][0]',                 \n",
            "                                                                  'lstm_7[0][0]']                 \n",
            "                                                                                                  \n",
            " dropout_2 (Dropout)            (None, 600)          0           ['concatenate_1[0][0]']          \n",
            "                                                                                                  \n",
            " dense_1 (Dense)                (None, 200)          120200      ['dropout_2[0][0]']              \n",
            "                                                                                                  \n",
            " dropout_3 (Dropout)            (None, 200)          0           ['dense_1[0][0]']                \n",
            "                                                                                                  \n",
            " elu_1 (ELU)                    (None, 200)          0           ['dropout_3[0][0]']              \n",
            "                                                                                                  \n",
            " decision_layer (Dense)         (None, 2)            402         ['elu_1[0][0]']                  \n",
            "                                                                                                  \n",
            "==================================================================================================\n",
            "Total params: 3,804,602\n",
            "Trainable params: 3,804,602\n",
            "Non-trainable params: 0\n",
            "__________________________________________________________________________________________________\n",
            "None\n"
          ]
        },
        {
          "output_type": "stream",
          "name": "stderr",
          "text": [
            "/usr/local/lib/python3.7/dist-packages/keras/optimizers/optimizer_v2/adam.py:110: UserWarning: The `lr` argument is deprecated, use `learning_rate` instead.\n",
            "  super(Adam, self).__init__(name, **kwargs)\n"
          ]
        }
      ],
      "source": [
        "#Define Text-Input\n",
        "text_in = Input(shape=(max_len,), name='answer')\n",
        "question_in = Input(shape=(max_len,), name='question')\n",
        "\n",
        "#Embeddings\n",
        "#Used to convert the encoded data i.e the matrix of indices into a form compatible with LSTM\n",
        "embedding = Embedding(output_dim=embedding_vector_length, input_dim=max_words, input_length=max_len)(text_in)\n",
        "embedding_question = Embedding(output_dim=embedding_vector_length, input_dim=max_words, input_length=max_len)(question_in)\n",
        "\n",
        "#LSTM for Answer\n",
        "lstm_a1 = LSTM(200, return_sequences = True)(embedding)\n",
        "lstm_a2 = LSTM(300)(lstm_a1)\n",
        "\n",
        "#LSTM for Question\n",
        "lstm_q1= LSTM(200, return_sequences = True)(embedding_question)\n",
        "lstm_q2 = LSTM(300)(lstm_q1)\n",
        "\n",
        "#merge layer\n",
        "merge_layer = keras.layers.concatenate([lstm_a2,lstm_q2])\n",
        "\n",
        "#Dropout for the hidden_units to be independent from each other\n",
        "dropout = Dropout(0.22)(merge_layer)\n",
        "\n",
        "#Hidden Dense Layer\n",
        "dense_1 = Dense(200)(dropout) \n",
        "dropout2 = Dropout(0.22)(dense_1)\n",
        "elu_layer = ELU()(dropout2)\n",
        "\n",
        "#Output layers\n",
        "problemLayer = Dense(2, activation='softmax', name='decision_layer')(elu_layer)\n",
        "\n",
        "#model\n",
        "model = Model([text_in,question_in],problemLayer)\n",
        "\n",
        "#optimizer\n",
        "adam = Adam(lr = learning_rate)\n",
        "print(model.summary())"
      ]
    },
    {
      "cell_type": "code",
      "execution_count": null,
      "metadata": {
        "id": "4zHrDqLC2iTU"
      },
      "outputs": [],
      "source": [
        "model.compile(optimizer = \"adam\", loss='categorical_crossentropy',metrics=['accuracy'])"
      ]
    },
    {
      "cell_type": "code",
      "source": [
        "model_history = model.fit([X_train,Q_train], y_train_list, epochs = training_epochs, batch_size=64, validation_split=0.2)"
      ],
      "metadata": {
        "colab": {
          "base_uri": "https://localhost:8080/"
        },
        "id": "6U9RLqFjNFwQ",
        "outputId": "dc3eee57-c222-4172-e30c-4b2d9a957b5d"
      },
      "execution_count": null,
      "outputs": [
        {
          "output_type": "stream",
          "name": "stdout",
          "text": [
            "Epoch 1/10\n",
            "127/127 [==============================] - 50s 353ms/step - loss: 0.1064 - accuracy: 0.9774 - val_loss: 0.0889 - val_accuracy: 0.9813\n",
            "Epoch 2/10\n",
            "127/127 [==============================] - 41s 326ms/step - loss: 0.0706 - accuracy: 0.9817 - val_loss: 0.0892 - val_accuracy: 0.9813\n",
            "Epoch 3/10\n",
            "127/127 [==============================] - 41s 325ms/step - loss: 0.0528 - accuracy: 0.9827 - val_loss: 0.0898 - val_accuracy: 0.9699\n",
            "Epoch 4/10\n",
            "127/127 [==============================] - 42s 334ms/step - loss: 0.0419 - accuracy: 0.9832 - val_loss: 0.0905 - val_accuracy: 0.9793\n",
            "Epoch 5/10\n",
            "127/127 [==============================] - 42s 327ms/step - loss: 0.0401 - accuracy: 0.9850 - val_loss: 0.0964 - val_accuracy: 0.9813\n",
            "Epoch 6/10\n",
            "127/127 [==============================] - 42s 327ms/step - loss: 0.0358 - accuracy: 0.9874 - val_loss: 0.0903 - val_accuracy: 0.9734\n",
            "Epoch 7/10\n",
            "127/127 [==============================] - 42s 327ms/step - loss: 0.0369 - accuracy: 0.9884 - val_loss: 0.1018 - val_accuracy: 0.9704\n",
            "Epoch 8/10\n",
            "127/127 [==============================] - 42s 332ms/step - loss: 0.0318 - accuracy: 0.9893 - val_loss: 0.1319 - val_accuracy: 0.9798\n",
            "Epoch 9/10\n",
            "127/127 [==============================] - 41s 327ms/step - loss: 0.0300 - accuracy: 0.9888 - val_loss: 0.0776 - val_accuracy: 0.9808\n",
            "Epoch 10/10\n",
            "127/127 [==============================] - 42s 329ms/step - loss: 0.0288 - accuracy: 0.9895 - val_loss: 0.1238 - val_accuracy: 0.9532\n"
          ]
        }
      ]
    },
    {
      "cell_type": "code",
      "source": [
        "#Save the model\n",
        "model.save('./model_' + train_model_for + '.h5')\n",
        "\n",
        "#save the answer tokenizer\n",
        "with open('tokenizer_a.pickle', 'wb') as handle:\n",
        "    pickle.dump(tokenizer_a, handle, protocol=pickle.HIGHEST_PROTOCOL)\n",
        "\n",
        "#save the question tokenizer\n",
        "with open('tokenizer_q.pickle', 'wb') as handle:\n",
        "    pickle.dump(tokenizer_b, handle, protocol=pickle.HIGHEST_PROTOCOL)\n",
        "\n",
        "\n",
        "#Note, if dataset is altered, tokenizers must be downloaded and placed in the proper directory"
      ],
      "metadata": {
        "id": "Zwnmyy9dinBn"
      },
      "execution_count": null,
      "outputs": []
    },
    {
      "cell_type": "code",
      "execution_count": null,
      "metadata": {
        "id": "P5hfYGPvQucO",
        "colab": {
          "base_uri": "https://localhost:8080/",
          "height": 295
        },
        "outputId": "da2f38d2-b664-434c-a640-3c710f5278cd"
      },
      "outputs": [
        {
          "output_type": "display_data",
          "data": {
            "text/plain": [
              "<Figure size 432x288 with 1 Axes>"
            ],
            "image/png": "[encoded data removed]"
          },
          "metadata": {
            "needs_background": "light"
          }
        }
      ],
      "source": [
        "import matplotlib.pyplot as plt\n",
        "\n",
        "plt.plot(model_history.history['accuracy'])\n",
        "plt.plot(model_history.history['val_accuracy'])\n",
        "plt.title('Infinitive Verb Swap')\n",
        "plt.ylabel('accuracy')\n",
        "plt.xlabel('epoch')\n",
        "plt.legend(['train', 'val'], loc='lower right')\n",
        "plt.show()"
      ]
    },
    {
      "cell_type": "code",
      "execution_count": null,
      "metadata": {
        "id": "E-M-oW3Z4BQG",
        "colab": {
          "base_uri": "https://localhost:8080/"
        },
        "outputId": "4e7f20aa-cadb-4739-9e21-7d4411499f45"
      },
      "outputs": [
        {
          "output_type": "stream",
          "name": "stdout",
          "text": [
            "Accuracy: 98.32%\n"
          ]
        }
      ],
      "source": [
        "scores = model.evaluate([X_test,Q_test], y_test_list, verbose=0)\n",
        "print(\"Accuracy: %.2f%%\" % (scores[1]*100))"
      ]
    },
    {
      "cell_type": "code",
      "source": [
        "#quick prediction example\n",
        "p = model.predict([np.array([X_test[0]]),np.array([Q_test[0]])])\n",
        "pc = np.argmax(p,axis=1)\n",
        "print(X_test[:1])\n",
        "print(p)\n",
        "print(pc)"
      ],
      "metadata": {
        "colab": {
          "base_uri": "https://localhost:8080/"
        },
        "id": "utpmC2oJp4vO",
        "outputId": "51b61a71-58b5-48d6-b609-e12c716877b0"
      },
      "execution_count": null,
      "outputs": [
        {
          "output_type": "stream",
          "name": "stdout",
          "text": [
            "1/1 [==============================] - 0s 21ms/step\n",
            "[[1530    0    0    0    0    0    0    0    0    0    0    0    0    0\n",
            "     0    0    0    0    0    0    0    0    0]]\n",
            "[[9.9985063e-01 1.4931425e-04]]\n",
            "[0]\n"
          ]
        }
      ]
    }
  ],
  "metadata": {
    "colab": {
      "collapsed_sections": [],
      "provenance": [],
      "toc_visible": true
    },
    "kernelspec": {
      "display_name": "Python 3",
      "name": "python3"
    },
    "language_info": {
      "name": "python"
    }
  },
  "nbformat": 4,
  "nbformat_minor": 0
}
